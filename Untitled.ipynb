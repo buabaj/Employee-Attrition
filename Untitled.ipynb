{
 "cells": [
  {
   "cell_type": "code",
   "execution_count": null,
   "metadata": {},
   "outputs": [],
   "source": []
  }
 ],
 "metadata": {
  "kernelspec": {
   "display_name": "Python 3.6.10 64-bit ('opencv-env': conda)",
   "language": "python",
   "name": "python361064bitopencvenvcondafb1d8745a93d4707b611e107c8dbd744"
  }
 },
 "nbformat": 4,
 "nbformat_minor": 4
}
